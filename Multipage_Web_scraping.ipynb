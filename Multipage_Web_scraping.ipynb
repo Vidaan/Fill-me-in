{
  "nbformat": 4,
  "nbformat_minor": 0,
  "metadata": {
    "colab": {
      "provenance": []
    },
    "kernelspec": {
      "name": "python3",
      "display_name": "Python 3"
    },
    "language_info": {
      "name": "python"
    }
  },
  "cells": [
    {
      "cell_type": "markdown",
      "source": [
        "## Intalling and importing required packages"
      ],
      "metadata": {
        "id": "12tGZA9anCct"
      }
    },
    {
      "cell_type": "code",
      "execution_count": null,
      "metadata": {
        "id": "N7SnCSq7JXLJ"
      },
      "outputs": [],
      "source": [
        "pip install bs4"
      ]
    },
    {
      "cell_type": "code",
      "source": [
        "pip install lxml"
      ],
      "metadata": {
        "id": "usOXNmipKUii"
      },
      "execution_count": null,
      "outputs": []
    },
    {
      "cell_type": "code",
      "source": [
        "pip install requests"
      ],
      "metadata": {
        "id": "1cRsgq0-KX_w"
      },
      "execution_count": null,
      "outputs": []
    },
    {
      "cell_type": "code",
      "source": [
        "import bs4\n",
        "import requests\n",
        "import lxml\n",
        "import pandas as pd"
      ],
      "metadata": {
        "id": "jYnpfxsjKbSA"
      },
      "execution_count": 79,
      "outputs": []
    },
    {
      "cell_type": "markdown",
      "source": [
        "## Single Page Web Scraping"
      ],
      "metadata": {
        "id": "cgipaKfqmyIb"
      }
    },
    {
      "cell_type": "code",
      "source": [
        "# setting up the website url\n",
        "\n",
        "base_url = \"https://quotes.toscrape.com/page/{}\"\n",
        "url_page = base_url.format(4)\n",
        "url_page"
      ],
      "metadata": {
        "colab": {
          "base_uri": "https://localhost:8080/",
          "height": 35
        },
        "id": "me93tNtDKgxP",
        "outputId": "a7e325ac-dd6c-4ab8-cc8a-8f93b58897c8"
      },
      "execution_count": 14,
      "outputs": [
        {
          "output_type": "execute_result",
          "data": {
            "text/plain": [
              "'https://quotes.toscrape.com/page/4'"
            ],
            "application/vnd.google.colaboratory.intrinsic+json": {
              "type": "string"
            }
          },
          "metadata": {},
          "execution_count": 14
        }
      ]
    },
    {
      "cell_type": "code",
      "source": [
        "# linking to the url and fetching data\n",
        "res = requests.get(url_page)\n",
        "\n",
        "# creating a soup to get the results\n",
        "soup = bs4.BeautifulSoup(res.text, 'lxml')\n",
        "soup"
      ],
      "metadata": {
        "colab": {
          "base_uri": "https://localhost:8080/"
        },
        "id": "-HliKqSfK6s5",
        "outputId": "94852620-1d74-4db0-8e54-1d105625aeaa"
      },
      "execution_count": 15,
      "outputs": [
        {
          "output_type": "execute_result",
          "data": {
            "text/plain": [
              "<!DOCTYPE html>\n",
              "<html lang=\"en\">\n",
              "<head>\n",
              "<meta charset=\"utf-8\"/>\n",
              "<title>Quotes to Scrape</title>\n",
              "<link href=\"/static/bootstrap.min.css\" rel=\"stylesheet\"/>\n",
              "<link href=\"/static/main.css\" rel=\"stylesheet\"/>\n",
              "</head>\n",
              "<body>\n",
              "<div class=\"container\">\n",
              "<div class=\"row header-box\">\n",
              "<div class=\"col-md-8\">\n",
              "<h1>\n",
              "<a href=\"/\" style=\"text-decoration: none\">Quotes to Scrape</a>\n",
              "</h1>\n",
              "</div>\n",
              "<div class=\"col-md-4\">\n",
              "<p>\n",
              "<a href=\"/login\">Login</a>\n",
              "</p>\n",
              "</div>\n",
              "</div>\n",
              "<div class=\"row\">\n",
              "<div class=\"col-md-8\">\n",
              "<div class=\"quote\" itemscope=\"\" itemtype=\"http://schema.org/CreativeWork\">\n",
              "<span class=\"text\" itemprop=\"text\">“The more that you read, the more things you will know. The more that you learn, the more places you'll go.”</span>\n",
              "<span>by <small class=\"author\" itemprop=\"author\">Dr. Seuss</small>\n",
              "<a href=\"/author/Dr-Seuss\">(about)</a>\n",
              "</span>\n",
              "<div class=\"tags\">\n",
              "            Tags:\n",
              "            <meta class=\"keywords\" content=\"learning,reading,seuss\" itemprop=\"keywords\"/>\n",
              "<a class=\"tag\" href=\"/tag/learning/page/1/\">learning</a>\n",
              "<a class=\"tag\" href=\"/tag/reading/page/1/\">reading</a>\n",
              "<a class=\"tag\" href=\"/tag/seuss/page/1/\">seuss</a>\n",
              "</div>\n",
              "</div>\n",
              "<div class=\"quote\" itemscope=\"\" itemtype=\"http://schema.org/CreativeWork\">\n",
              "<span class=\"text\" itemprop=\"text\">“Of course it is happening inside your head, Harry, but why on earth should that mean that it is not real?”</span>\n",
              "<span>by <small class=\"author\" itemprop=\"author\">J.K. Rowling</small>\n",
              "<a href=\"/author/J-K-Rowling\">(about)</a>\n",
              "</span>\n",
              "<div class=\"tags\">\n",
              "            Tags:\n",
              "            <meta class=\"keywords\" content=\"dumbledore\" itemprop=\"keywords\"/>\n",
              "<a class=\"tag\" href=\"/tag/dumbledore/page/1/\">dumbledore</a>\n",
              "</div>\n",
              "</div>\n",
              "<div class=\"quote\" itemscope=\"\" itemtype=\"http://schema.org/CreativeWork\">\n",
              "<span class=\"text\" itemprop=\"text\">“The truth is, everyone is going to hurt you. You just got to find the ones worth suffering for.”</span>\n",
              "<span>by <small class=\"author\" itemprop=\"author\">Bob Marley</small>\n",
              "<a href=\"/author/Bob-Marley\">(about)</a>\n",
              "</span>\n",
              "<div class=\"tags\">\n",
              "            Tags:\n",
              "            <meta class=\"keywords\" content=\"friendship\" itemprop=\"keywords\"/>\n",
              "<a class=\"tag\" href=\"/tag/friendship/page/1/\">friendship</a>\n",
              "</div>\n",
              "</div>\n",
              "<div class=\"quote\" itemscope=\"\" itemtype=\"http://schema.org/CreativeWork\">\n",
              "<span class=\"text\" itemprop=\"text\">“Not all of us can do great things. But we can do small things with great love.”</span>\n",
              "<span>by <small class=\"author\" itemprop=\"author\">Mother Teresa</small>\n",
              "<a href=\"/author/Mother-Teresa\">(about)</a>\n",
              "</span>\n",
              "<div class=\"tags\">\n",
              "            Tags:\n",
              "            <meta class=\"keywords\" content=\"misattributed-to-mother-teresa,paraphrased\" itemprop=\"keywords\"/>\n",
              "<a class=\"tag\" href=\"/tag/misattributed-to-mother-teresa/page/1/\">misattributed-to-mother-teresa</a>\n",
              "<a class=\"tag\" href=\"/tag/paraphrased/page/1/\">paraphrased</a>\n",
              "</div>\n",
              "</div>\n",
              "<div class=\"quote\" itemscope=\"\" itemtype=\"http://schema.org/CreativeWork\">\n",
              "<span class=\"text\" itemprop=\"text\">“To the well-organized mind, death is but the next great adventure.”</span>\n",
              "<span>by <small class=\"author\" itemprop=\"author\">J.K. Rowling</small>\n",
              "<a href=\"/author/J-K-Rowling\">(about)</a>\n",
              "</span>\n",
              "<div class=\"tags\">\n",
              "            Tags:\n",
              "            <meta class=\"keywords\" content=\"death,inspirational\" itemprop=\"keywords\"/>\n",
              "<a class=\"tag\" href=\"/tag/death/page/1/\">death</a>\n",
              "<a class=\"tag\" href=\"/tag/inspirational/page/1/\">inspirational</a>\n",
              "</div>\n",
              "</div>\n",
              "<div class=\"quote\" itemscope=\"\" itemtype=\"http://schema.org/CreativeWork\">\n",
              "<span class=\"text\" itemprop=\"text\">“All you need is love. But a little chocolate now and then doesn't hurt.”</span>\n",
              "<span>by <small class=\"author\" itemprop=\"author\">Charles M. Schulz</small>\n",
              "<a href=\"/author/Charles-M-Schulz\">(about)</a>\n",
              "</span>\n",
              "<div class=\"tags\">\n",
              "            Tags:\n",
              "            <meta class=\"keywords\" content=\"chocolate,food,humor\" itemprop=\"keywords\"/>\n",
              "<a class=\"tag\" href=\"/tag/chocolate/page/1/\">chocolate</a>\n",
              "<a class=\"tag\" href=\"/tag/food/page/1/\">food</a>\n",
              "<a class=\"tag\" href=\"/tag/humor/page/1/\">humor</a>\n",
              "</div>\n",
              "</div>\n",
              "<div class=\"quote\" itemscope=\"\" itemtype=\"http://schema.org/CreativeWork\">\n",
              "<span class=\"text\" itemprop=\"text\">“We read to know we're not alone.”</span>\n",
              "<span>by <small class=\"author\" itemprop=\"author\">William Nicholson</small>\n",
              "<a href=\"/author/William-Nicholson\">(about)</a>\n",
              "</span>\n",
              "<div class=\"tags\">\n",
              "            Tags:\n",
              "            <meta class=\"keywords\" content=\"misattributed-to-c-s-lewis,reading\" itemprop=\"keywords\"/>\n",
              "<a class=\"tag\" href=\"/tag/misattributed-to-c-s-lewis/page/1/\">misattributed-to-c-s-lewis</a>\n",
              "<a class=\"tag\" href=\"/tag/reading/page/1/\">reading</a>\n",
              "</div>\n",
              "</div>\n",
              "<div class=\"quote\" itemscope=\"\" itemtype=\"http://schema.org/CreativeWork\">\n",
              "<span class=\"text\" itemprop=\"text\">“Any fool can know. The point is to understand.”</span>\n",
              "<span>by <small class=\"author\" itemprop=\"author\">Albert Einstein</small>\n",
              "<a href=\"/author/Albert-Einstein\">(about)</a>\n",
              "</span>\n",
              "<div class=\"tags\">\n",
              "            Tags:\n",
              "            <meta class=\"keywords\" content=\"knowledge,learning,understanding,wisdom\" itemprop=\"keywords\"/>\n",
              "<a class=\"tag\" href=\"/tag/knowledge/page/1/\">knowledge</a>\n",
              "<a class=\"tag\" href=\"/tag/learning/page/1/\">learning</a>\n",
              "<a class=\"tag\" href=\"/tag/understanding/page/1/\">understanding</a>\n",
              "<a class=\"tag\" href=\"/tag/wisdom/page/1/\">wisdom</a>\n",
              "</div>\n",
              "</div>\n",
              "<div class=\"quote\" itemscope=\"\" itemtype=\"http://schema.org/CreativeWork\">\n",
              "<span class=\"text\" itemprop=\"text\">“I have always imagined that Paradise will be a kind of library.”</span>\n",
              "<span>by <small class=\"author\" itemprop=\"author\">Jorge Luis Borges</small>\n",
              "<a href=\"/author/Jorge-Luis-Borges\">(about)</a>\n",
              "</span>\n",
              "<div class=\"tags\">\n",
              "            Tags:\n",
              "            <meta class=\"keywords\" content=\"books,library\" itemprop=\"keywords\"/>\n",
              "<a class=\"tag\" href=\"/tag/books/page/1/\">books</a>\n",
              "<a class=\"tag\" href=\"/tag/library/page/1/\">library</a>\n",
              "</div>\n",
              "</div>\n",
              "<div class=\"quote\" itemscope=\"\" itemtype=\"http://schema.org/CreativeWork\">\n",
              "<span class=\"text\" itemprop=\"text\">“It is never too late to be what you might have been.”</span>\n",
              "<span>by <small class=\"author\" itemprop=\"author\">George Eliot</small>\n",
              "<a href=\"/author/George-Eliot\">(about)</a>\n",
              "</span>\n",
              "<div class=\"tags\">\n",
              "            Tags:\n",
              "            <meta class=\"keywords\" content=\"inspirational\" itemprop=\"keywords\"/>\n",
              "<a class=\"tag\" href=\"/tag/inspirational/page/1/\">inspirational</a>\n",
              "</div>\n",
              "</div>\n",
              "<nav>\n",
              "<ul class=\"pager\">\n",
              "<li class=\"previous\">\n",
              "<a href=\"/page/3/\"><span aria-hidden=\"true\">←</span> Previous</a>\n",
              "</li>\n",
              "<li class=\"next\">\n",
              "<a href=\"/page/5/\">Next <span aria-hidden=\"true\">→</span></a>\n",
              "</li>\n",
              "</ul>\n",
              "</nav>\n",
              "</div>\n",
              "<div class=\"col-md-4 tags-box\">\n",
              "<h2>Top Ten tags</h2>\n",
              "<span class=\"tag-item\">\n",
              "<a class=\"tag\" href=\"/tag/love/\" style=\"font-size: 28px\">love</a>\n",
              "</span>\n",
              "<span class=\"tag-item\">\n",
              "<a class=\"tag\" href=\"/tag/inspirational/\" style=\"font-size: 26px\">inspirational</a>\n",
              "</span>\n",
              "<span class=\"tag-item\">\n",
              "<a class=\"tag\" href=\"/tag/life/\" style=\"font-size: 26px\">life</a>\n",
              "</span>\n",
              "<span class=\"tag-item\">\n",
              "<a class=\"tag\" href=\"/tag/humor/\" style=\"font-size: 24px\">humor</a>\n",
              "</span>\n",
              "<span class=\"tag-item\">\n",
              "<a class=\"tag\" href=\"/tag/books/\" style=\"font-size: 22px\">books</a>\n",
              "</span>\n",
              "<span class=\"tag-item\">\n",
              "<a class=\"tag\" href=\"/tag/reading/\" style=\"font-size: 14px\">reading</a>\n",
              "</span>\n",
              "<span class=\"tag-item\">\n",
              "<a class=\"tag\" href=\"/tag/friendship/\" style=\"font-size: 10px\">friendship</a>\n",
              "</span>\n",
              "<span class=\"tag-item\">\n",
              "<a class=\"tag\" href=\"/tag/friends/\" style=\"font-size: 8px\">friends</a>\n",
              "</span>\n",
              "<span class=\"tag-item\">\n",
              "<a class=\"tag\" href=\"/tag/truth/\" style=\"font-size: 8px\">truth</a>\n",
              "</span>\n",
              "<span class=\"tag-item\">\n",
              "<a class=\"tag\" href=\"/tag/simile/\" style=\"font-size: 6px\">simile</a>\n",
              "</span>\n",
              "</div>\n",
              "</div>\n",
              "</div>\n",
              "<footer class=\"footer\">\n",
              "<div class=\"container\">\n",
              "<p class=\"text-muted\">\n",
              "                Quotes by: <a href=\"https://www.goodreads.com/quotes\">GoodReads.com</a>\n",
              "</p>\n",
              "<p class=\"copyright\">\n",
              "                Made with <span class=\"sh-red\">❤</span> by <a href=\"https://scrapinghub.com\">Scrapinghub</a>\n",
              "</p>\n",
              "</div>\n",
              "</footer>\n",
              "</body>\n",
              "</html>"
            ]
          },
          "metadata": {},
          "execution_count": 15
        }
      ]
    },
    {
      "cell_type": "markdown",
      "source": [
        "### Creating the list of authors on a given page"
      ],
      "metadata": {
        "id": "SqfoQzXIWqMZ"
      }
    },
    {
      "cell_type": "code",
      "source": [
        "authors = soup.select('.author')\n",
        "\n",
        "author_list = []\n",
        "\n",
        "for auth in authors:\n",
        "  author_list.append(auth.text)\n",
        "\n",
        "author_list"
      ],
      "metadata": {
        "colab": {
          "base_uri": "https://localhost:8080/"
        },
        "id": "AiD2hah3LaKU",
        "outputId": "37e311ed-307c-4031-9d63-5ca258abe6c5"
      },
      "execution_count": 69,
      "outputs": [
        {
          "output_type": "execute_result",
          "data": {
            "text/plain": [
              "['Dr. Seuss',\n",
              " 'J.K. Rowling',\n",
              " 'Bob Marley',\n",
              " 'Mother Teresa',\n",
              " 'J.K. Rowling',\n",
              " 'Charles M. Schulz',\n",
              " 'William Nicholson',\n",
              " 'Albert Einstein',\n",
              " 'Jorge Luis Borges',\n",
              " 'George Eliot']"
            ]
          },
          "metadata": {},
          "execution_count": 69
        }
      ]
    },
    {
      "cell_type": "markdown",
      "source": [
        "### Creating the list of quotes on a given page"
      ],
      "metadata": {
        "id": "D5evGY3WWxN0"
      }
    },
    {
      "cell_type": "code",
      "source": [
        "quote = soup.select('.text')\n",
        "\n",
        "quote_list = []\n",
        "\n",
        "for qt in quote:\n",
        "  quote_list.append(qt.text)\n",
        "\n",
        "quote_list"
      ],
      "metadata": {
        "colab": {
          "base_uri": "https://localhost:8080/"
        },
        "id": "ucPfJGSwNBmF",
        "outputId": "f584c374-6ac4-4641-fa7b-1fc243798c3f"
      },
      "execution_count": 70,
      "outputs": [
        {
          "output_type": "execute_result",
          "data": {
            "text/plain": [
              "[\"“The more that you read, the more things you will know. The more that you learn, the more places you'll go.”\",\n",
              " '“Of course it is happening inside your head, Harry, but why on earth should that mean that it is not real?”',\n",
              " '“The truth is, everyone is going to hurt you. You just got to find the ones worth suffering for.”',\n",
              " '“Not all of us can do great things. But we can do small things with great love.”',\n",
              " '“To the well-organized mind, death is but the next great adventure.”',\n",
              " \"“All you need is love. But a little chocolate now and then doesn't hurt.”\",\n",
              " \"“We read to know we're not alone.”\",\n",
              " '“Any fool can know. The point is to understand.”',\n",
              " '“I have always imagined that Paradise will be a kind of library.”',\n",
              " '“It is never too late to be what you might have been.”']"
            ]
          },
          "metadata": {},
          "execution_count": 70
        }
      ]
    },
    {
      "cell_type": "markdown",
      "source": [
        "### Printing top ten tags in the page"
      ],
      "metadata": {
        "id": "dLEBfp8WZcf2"
      }
    },
    {
      "cell_type": "code",
      "source": [
        "tag = soup.select('.tag-item')\n",
        "for tg in tag:\n",
        "  print(tg.text)"
      ],
      "metadata": {
        "colab": {
          "base_uri": "https://localhost:8080/"
        },
        "id": "N4apda2aV380",
        "outputId": "cdaad1e4-872d-40b5-8450-31443b1d8d52"
      },
      "execution_count": 74,
      "outputs": [
        {
          "output_type": "stream",
          "name": "stdout",
          "text": [
            "\n",
            "love\n",
            "\n",
            "\n",
            "inspirational\n",
            "\n",
            "\n",
            "life\n",
            "\n",
            "\n",
            "humor\n",
            "\n",
            "\n",
            "books\n",
            "\n",
            "\n",
            "reading\n",
            "\n",
            "\n",
            "friendship\n",
            "\n",
            "\n",
            "friends\n",
            "\n",
            "\n",
            "truth\n",
            "\n",
            "\n",
            "simile\n",
            "\n"
          ]
        }
      ]
    },
    {
      "cell_type": "markdown",
      "source": [
        "## Looping through multiple pages on the website"
      ],
      "metadata": {
        "id": "ZsMBfhRkepKF"
      }
    },
    {
      "cell_type": "markdown",
      "source": [
        "### Method 1: when the number of pages is known before hand"
      ],
      "metadata": {
        "id": "WsL23vPalhet"
      }
    },
    {
      "cell_type": "code",
      "source": [
        "author_list = []\n",
        "quote_list = []\n",
        "\n",
        "for pg in range(1,11):\n",
        "  base_url = \"https://quotes.toscrape.com/page/{}\"\n",
        "  url_page = base_url.format(pg)\n",
        "\n",
        "  # linking to the url and fetching data\n",
        "  res = requests.get(url_page)\n",
        "\n",
        "  # creating a soup to get the results\n",
        "  soup = bs4.BeautifulSoup(res.text, 'lxml')\n",
        "    \n",
        "  authors = soup.select('.author')\n",
        "  quote = soup.select('.text')\n",
        "\n",
        "  for auth in authors:\n",
        "    author_list.append(auth.text)\n",
        "\n",
        "  for qt in quote:\n",
        "    quote_list.append(qt.text)\n"
      ],
      "metadata": {
        "id": "afPNJXsydzhl"
      },
      "execution_count": 96,
      "outputs": []
    },
    {
      "cell_type": "markdown",
      "source": [
        "### Method 2: when the number of pages is not known"
      ],
      "metadata": {
        "id": "1zb_s5VMlwkC"
      }
    },
    {
      "cell_type": "code",
      "source": [
        "# checking the output on the website for a page number that does not exist\n",
        "base_url = \"https://quotes.toscrape.com/page/{}\"\n",
        "url_page = base_url.format(99999)\n",
        "\n",
        "# linking to the url and fetching data\n",
        "res = requests.get(url_page)\n",
        "\n",
        "# creating a soup to get the results\n",
        "soup = bs4.BeautifulSoup(res.text, 'lxml')\n",
        "soup"
      ],
      "metadata": {
        "colab": {
          "base_uri": "https://localhost:8080/"
        },
        "id": "2WBBBaPPl4pZ",
        "outputId": "4ac81fd1-cf0a-48ae-8fd2-d848d2f5d491"
      },
      "execution_count": 94,
      "outputs": [
        {
          "output_type": "execute_result",
          "data": {
            "text/plain": [
              "<!DOCTYPE html>\n",
              "<html lang=\"en\">\n",
              "<head>\n",
              "<meta charset=\"utf-8\"/>\n",
              "<title>Quotes to Scrape</title>\n",
              "<link href=\"/static/bootstrap.min.css\" rel=\"stylesheet\"/>\n",
              "<link href=\"/static/main.css\" rel=\"stylesheet\"/>\n",
              "</head>\n",
              "<body>\n",
              "<div class=\"container\">\n",
              "<div class=\"row header-box\">\n",
              "<div class=\"col-md-8\">\n",
              "<h1>\n",
              "<a href=\"/\" style=\"text-decoration: none\">Quotes to Scrape</a>\n",
              "</h1>\n",
              "</div>\n",
              "<div class=\"col-md-4\">\n",
              "<p>\n",
              "<a href=\"/login\">Login</a>\n",
              "</p>\n",
              "</div>\n",
              "</div>\n",
              "<div class=\"row\">\n",
              "<div class=\"col-md-8\">\n",
              "\n",
              "No quotes found!\n",
              "\n",
              "    <nav>\n",
              "<ul class=\"pager\">\n",
              "<li class=\"previous\">\n",
              "<a href=\"/page/99998/\"><span aria-hidden=\"true\">←</span> Previous</a>\n",
              "</li>\n",
              "</ul>\n",
              "</nav>\n",
              "</div>\n",
              "<div class=\"col-md-4 tags-box\">\n",
              "<h2>Top Ten tags</h2>\n",
              "<span class=\"tag-item\">\n",
              "<a class=\"tag\" href=\"/tag/love/\" style=\"font-size: 28px\">love</a>\n",
              "</span>\n",
              "<span class=\"tag-item\">\n",
              "<a class=\"tag\" href=\"/tag/inspirational/\" style=\"font-size: 26px\">inspirational</a>\n",
              "</span>\n",
              "<span class=\"tag-item\">\n",
              "<a class=\"tag\" href=\"/tag/life/\" style=\"font-size: 26px\">life</a>\n",
              "</span>\n",
              "<span class=\"tag-item\">\n",
              "<a class=\"tag\" href=\"/tag/humor/\" style=\"font-size: 24px\">humor</a>\n",
              "</span>\n",
              "<span class=\"tag-item\">\n",
              "<a class=\"tag\" href=\"/tag/books/\" style=\"font-size: 22px\">books</a>\n",
              "</span>\n",
              "<span class=\"tag-item\">\n",
              "<a class=\"tag\" href=\"/tag/reading/\" style=\"font-size: 14px\">reading</a>\n",
              "</span>\n",
              "<span class=\"tag-item\">\n",
              "<a class=\"tag\" href=\"/tag/friendship/\" style=\"font-size: 10px\">friendship</a>\n",
              "</span>\n",
              "<span class=\"tag-item\">\n",
              "<a class=\"tag\" href=\"/tag/friends/\" style=\"font-size: 8px\">friends</a>\n",
              "</span>\n",
              "<span class=\"tag-item\">\n",
              "<a class=\"tag\" href=\"/tag/truth/\" style=\"font-size: 8px\">truth</a>\n",
              "</span>\n",
              "<span class=\"tag-item\">\n",
              "<a class=\"tag\" href=\"/tag/simile/\" style=\"font-size: 6px\">simile</a>\n",
              "</span>\n",
              "</div>\n",
              "</div>\n",
              "</div>\n",
              "<footer class=\"footer\">\n",
              "<div class=\"container\">\n",
              "<p class=\"text-muted\">\n",
              "                Quotes by: <a href=\"https://www.goodreads.com/quotes\">GoodReads.com</a>\n",
              "</p>\n",
              "<p class=\"copyright\">\n",
              "                Made with <span class=\"sh-red\">❤</span> by <a href=\"https://scrapinghub.com\">Scrapinghub</a>\n",
              "</p>\n",
              "</div>\n",
              "</footer>\n",
              "</body>\n",
              "</html>"
            ]
          },
          "metadata": {},
          "execution_count": 94
        }
      ]
    },
    {
      "cell_type": "code",
      "source": [
        "# Looking for the \"No quotes found!\" string. \n",
        "# This string indicates that this is the last page.\n",
        "\n",
        "page_still_valid = True\n",
        "author_list = []\n",
        "quote_list = []\n",
        "\n",
        "base_url = 'http://quotes.toscrape.com/page/'\n",
        "\n",
        "page = 1\n",
        "\n",
        "while page_still_valid:\n",
        "   \n",
        "    # Concatenate to get new page URL\n",
        "    url_page = base_url+str(page)\n",
        "    \n",
        "    # Obtain Request\n",
        "    res = requests.get(url_page)\n",
        "    \n",
        "    # Check to see if we're on the last page\n",
        "    if \"No quotes found!\" in res.text:\n",
        "        break\n",
        "    \n",
        "    # Turn into Soup\n",
        "    soup = bs4.BeautifulSoup(res.text,'lxml')\n",
        "    \n",
        "    # Add Authors to the list\n",
        "    for name in soup.select(\".author\"):\n",
        "        author_list.append(name.text)\n",
        "        \n",
        "    # Add Quotes to the list\n",
        "    for qt in soup.select(\".text\"):\n",
        "        quote_list.append(qt.text)\n",
        "\n",
        "    # Go to Next Page\n",
        "    page += 1"
      ],
      "metadata": {
        "id": "8aZJvFlInryc"
      },
      "execution_count": 134,
      "outputs": []
    },
    {
      "cell_type": "code",
      "source": [
        "author_list"
      ],
      "metadata": {
        "id": "sdGJ27f4qaXk"
      },
      "execution_count": null,
      "outputs": []
    },
    {
      "cell_type": "code",
      "source": [
        "quote_list"
      ],
      "metadata": {
        "id": "-C9OZEhH1bnZ"
      },
      "execution_count": null,
      "outputs": []
    },
    {
      "cell_type": "markdown",
      "source": [
        "## Creating a data frame for the two lists"
      ],
      "metadata": {
        "id": "MF4dZCgpiXqM"
      }
    },
    {
      "cell_type": "code",
      "source": [
        "full_list = [author_list] + [quote_list]\n",
        "df = pd.DataFrame(full_list).transpose()\n",
        "df.columns = ['Author', 'Quote']\n",
        "df"
      ],
      "metadata": {
        "colab": {
          "base_uri": "https://localhost:8080/",
          "height": 424
        },
        "id": "nfZksf9mjstF",
        "outputId": "663f9d37-6fab-4de4-ed92-c2ec44341fb1"
      },
      "execution_count": 137,
      "outputs": [
        {
          "output_type": "execute_result",
          "data": {
            "text/plain": [
              "                Author                                              Quote\n",
              "0      Albert Einstein  “The world as we have created it is a process ...\n",
              "1         J.K. Rowling  “It is our choices, Harry, that show what we t...\n",
              "2      Albert Einstein  “There are only two ways to live your life. On...\n",
              "3          Jane Austen  “The person, be it gentleman or lady, who has ...\n",
              "4       Marilyn Monroe  “Imperfection is beauty, madness is genius and...\n",
              "..                 ...                                                ...\n",
              "95          Harper Lee  “You never really understand a person until yo...\n",
              "96   Madeleine L'Engle  “You have to write the book that wants to be w...\n",
              "97          Mark Twain  “Never tell the truth to people who are not wo...\n",
              "98           Dr. Seuss        “A person's a person, no matter how small.”\n",
              "99  George R.R. Martin  “... a mind needs books as a sword needs a whe...\n",
              "\n",
              "[100 rows x 2 columns]"
            ],
            "text/html": [
              "\n",
              "  <div id=\"df-d895b867-a5e1-46aa-b928-72b6f4116e21\">\n",
              "    <div class=\"colab-df-container\">\n",
              "      <div>\n",
              "<style scoped>\n",
              "    .dataframe tbody tr th:only-of-type {\n",
              "        vertical-align: middle;\n",
              "    }\n",
              "\n",
              "    .dataframe tbody tr th {\n",
              "        vertical-align: top;\n",
              "    }\n",
              "\n",
              "    .dataframe thead th {\n",
              "        text-align: right;\n",
              "    }\n",
              "</style>\n",
              "<table border=\"1\" class=\"dataframe\">\n",
              "  <thead>\n",
              "    <tr style=\"text-align: right;\">\n",
              "      <th></th>\n",
              "      <th>Author</th>\n",
              "      <th>Quote</th>\n",
              "    </tr>\n",
              "  </thead>\n",
              "  <tbody>\n",
              "    <tr>\n",
              "      <th>0</th>\n",
              "      <td>Albert Einstein</td>\n",
              "      <td>“The world as we have created it is a process ...</td>\n",
              "    </tr>\n",
              "    <tr>\n",
              "      <th>1</th>\n",
              "      <td>J.K. Rowling</td>\n",
              "      <td>“It is our choices, Harry, that show what we t...</td>\n",
              "    </tr>\n",
              "    <tr>\n",
              "      <th>2</th>\n",
              "      <td>Albert Einstein</td>\n",
              "      <td>“There are only two ways to live your life. On...</td>\n",
              "    </tr>\n",
              "    <tr>\n",
              "      <th>3</th>\n",
              "      <td>Jane Austen</td>\n",
              "      <td>“The person, be it gentleman or lady, who has ...</td>\n",
              "    </tr>\n",
              "    <tr>\n",
              "      <th>4</th>\n",
              "      <td>Marilyn Monroe</td>\n",
              "      <td>“Imperfection is beauty, madness is genius and...</td>\n",
              "    </tr>\n",
              "    <tr>\n",
              "      <th>...</th>\n",
              "      <td>...</td>\n",
              "      <td>...</td>\n",
              "    </tr>\n",
              "    <tr>\n",
              "      <th>95</th>\n",
              "      <td>Harper Lee</td>\n",
              "      <td>“You never really understand a person until yo...</td>\n",
              "    </tr>\n",
              "    <tr>\n",
              "      <th>96</th>\n",
              "      <td>Madeleine L'Engle</td>\n",
              "      <td>“You have to write the book that wants to be w...</td>\n",
              "    </tr>\n",
              "    <tr>\n",
              "      <th>97</th>\n",
              "      <td>Mark Twain</td>\n",
              "      <td>“Never tell the truth to people who are not wo...</td>\n",
              "    </tr>\n",
              "    <tr>\n",
              "      <th>98</th>\n",
              "      <td>Dr. Seuss</td>\n",
              "      <td>“A person's a person, no matter how small.”</td>\n",
              "    </tr>\n",
              "    <tr>\n",
              "      <th>99</th>\n",
              "      <td>George R.R. Martin</td>\n",
              "      <td>“... a mind needs books as a sword needs a whe...</td>\n",
              "    </tr>\n",
              "  </tbody>\n",
              "</table>\n",
              "<p>100 rows × 2 columns</p>\n",
              "</div>\n",
              "      <button class=\"colab-df-convert\" onclick=\"convertToInteractive('df-d895b867-a5e1-46aa-b928-72b6f4116e21')\"\n",
              "              title=\"Convert this dataframe to an interactive table.\"\n",
              "              style=\"display:none;\">\n",
              "        \n",
              "  <svg xmlns=\"http://www.w3.org/2000/svg\" height=\"24px\"viewBox=\"0 0 24 24\"\n",
              "       width=\"24px\">\n",
              "    <path d=\"M0 0h24v24H0V0z\" fill=\"none\"/>\n",
              "    <path d=\"M18.56 5.44l.94 2.06.94-2.06 2.06-.94-2.06-.94-.94-2.06-.94 2.06-2.06.94zm-11 1L8.5 8.5l.94-2.06 2.06-.94-2.06-.94L8.5 2.5l-.94 2.06-2.06.94zm10 10l.94 2.06.94-2.06 2.06-.94-2.06-.94-.94-2.06-.94 2.06-2.06.94z\"/><path d=\"M17.41 7.96l-1.37-1.37c-.4-.4-.92-.59-1.43-.59-.52 0-1.04.2-1.43.59L10.3 9.45l-7.72 7.72c-.78.78-.78 2.05 0 2.83L4 21.41c.39.39.9.59 1.41.59.51 0 1.02-.2 1.41-.59l7.78-7.78 2.81-2.81c.8-.78.8-2.07 0-2.86zM5.41 20L4 18.59l7.72-7.72 1.47 1.35L5.41 20z\"/>\n",
              "  </svg>\n",
              "      </button>\n",
              "      \n",
              "  <style>\n",
              "    .colab-df-container {\n",
              "      display:flex;\n",
              "      flex-wrap:wrap;\n",
              "      gap: 12px;\n",
              "    }\n",
              "\n",
              "    .colab-df-convert {\n",
              "      background-color: #E8F0FE;\n",
              "      border: none;\n",
              "      border-radius: 50%;\n",
              "      cursor: pointer;\n",
              "      display: none;\n",
              "      fill: #1967D2;\n",
              "      height: 32px;\n",
              "      padding: 0 0 0 0;\n",
              "      width: 32px;\n",
              "    }\n",
              "\n",
              "    .colab-df-convert:hover {\n",
              "      background-color: #E2EBFA;\n",
              "      box-shadow: 0px 1px 2px rgba(60, 64, 67, 0.3), 0px 1px 3px 1px rgba(60, 64, 67, 0.15);\n",
              "      fill: #174EA6;\n",
              "    }\n",
              "\n",
              "    [theme=dark] .colab-df-convert {\n",
              "      background-color: #3B4455;\n",
              "      fill: #D2E3FC;\n",
              "    }\n",
              "\n",
              "    [theme=dark] .colab-df-convert:hover {\n",
              "      background-color: #434B5C;\n",
              "      box-shadow: 0px 1px 3px 1px rgba(0, 0, 0, 0.15);\n",
              "      filter: drop-shadow(0px 1px 2px rgba(0, 0, 0, 0.3));\n",
              "      fill: #FFFFFF;\n",
              "    }\n",
              "  </style>\n",
              "\n",
              "      <script>\n",
              "        const buttonEl =\n",
              "          document.querySelector('#df-d895b867-a5e1-46aa-b928-72b6f4116e21 button.colab-df-convert');\n",
              "        buttonEl.style.display =\n",
              "          google.colab.kernel.accessAllowed ? 'block' : 'none';\n",
              "\n",
              "        async function convertToInteractive(key) {\n",
              "          const element = document.querySelector('#df-d895b867-a5e1-46aa-b928-72b6f4116e21');\n",
              "          const dataTable =\n",
              "            await google.colab.kernel.invokeFunction('convertToInteractive',\n",
              "                                                     [key], {});\n",
              "          if (!dataTable) return;\n",
              "\n",
              "          const docLinkHtml = 'Like what you see? Visit the ' +\n",
              "            '<a target=\"_blank\" href=https://colab.research.google.com/notebooks/data_table.ipynb>data table notebook</a>'\n",
              "            + ' to learn more about interactive tables.';\n",
              "          element.innerHTML = '';\n",
              "          dataTable['output_type'] = 'display_data';\n",
              "          await google.colab.output.renderOutput(dataTable, element);\n",
              "          const docLink = document.createElement('div');\n",
              "          docLink.innerHTML = docLinkHtml;\n",
              "          element.appendChild(docLink);\n",
              "        }\n",
              "      </script>\n",
              "    </div>\n",
              "  </div>\n",
              "  "
            ]
          },
          "metadata": {},
          "execution_count": 137
        }
      ]
    },
    {
      "cell_type": "markdown",
      "source": [
        "### Storing the data frame into a spreadsheet"
      ],
      "metadata": {
        "id": "VIbpooMOlC_B"
      }
    },
    {
      "cell_type": "code",
      "source": [
        "df.to_excel('Author_Quote_list.xlsx')"
      ],
      "metadata": {
        "id": "PVKdUzgAlCDl"
      },
      "execution_count": 138,
      "outputs": []
    }
  ]
}